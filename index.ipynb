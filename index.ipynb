{
 "cells": [
  {
   "cell_type": "markdown",
   "metadata": {},
   "source": [
    "# HTTP Request/Response Cycle - Lab\n",
    "\n",
    "## Introduction \n",
    "\n",
    "In this lab, we'll make use of the `requests` module commands and properties seen in the previous lesson, to extract information for a web service called **\"Open Notify\"** to access NASA's space data. \n",
    "\n",
    "## Objectives\n",
    "\n",
    "You will be able to:\n",
    "\n",
    "* Explain the HTTP request/response cycle\n",
    "* List the status codes of responses and their meanings\n",
    "* Obtain and interpret status codes from responses\n",
    "* Make HTTP GET and POST requests in python using the `requests` library\n",
    "\n",
    "## Open Notify \n",
    "\n",
    "[Open Notify](http://open-notify.org/)  is an an open source project to provide a simple programming interface for some of NASA’s awesome data. This takes live raw data from NASA's systems and turn them into APIs related to space and spacecraft. We can access the following information from open notify. \n",
    "\n",
    "* Current Location of the International Space Station\n",
    "\n",
    "* Overhead Pass Predictions for the International Space Station\n",
    "\n",
    "* Number of People in Space\n",
    "    \n",
    "### API endpoints\n",
    "\n",
    "Open Notify has several API endpoints. \n",
    ">An endpoint is a server route that is used to retrieve different data from the API. \n",
    "\n",
    "For example, the `/comments` endpoint on the Reddit API might retrieve information about comments, whereas the `/users` endpoint might retrieve data about users. To access them, you would add the endpoint to the base url of the API.\n",
    "\n",
    "For the OpenNotify API, we have following end points \n",
    "\n",
    "1. Current Location of the International Space Station `/iss-now.json`\n",
    "2. Overhead Pass Predictions for the International Space Station `/iss-pass.json`    \n",
    "3. Number of People in Space `/astros.json`\n",
    "\n",
    "The `.json` extension simply tells us that the data is being returned in a JSON format.\n",
    "\n",
    "In this lab, we'll be querying this API to retrieve live data about the International Space Station (ISS). Details on OpenNofity, endpoints, syntax, and the services it offers can be viewed [Here](http://open-notify.org/Open-Notify-API/)\n",
    "\n",
    "![](images/iss.jpg)\n",
    "\n",
    "### Current location of International Space Station\n",
    "\n",
    "The first endpoint we'll look at on Open Notify is the ` iss-now.json` endpoint (current location of international space station). This endpoint gets the current latitude and longitude of the International Space Station.  Perform the following tasks \n",
    "* Make a get request to get the latest position of the international space station from the opennotify api's `iss-now` endpoint at http://api.open-notify.org/iss-now.json\n",
    "* Check the status code of the response\n",
    "* Interpret the returned code"
   ]
  },
  {
   "cell_type": "code",
   "execution_count": 8,
   "metadata": {},
   "outputs": [
    {
     "data": {
      "text/plain": [
       "True"
      ]
     },
     "execution_count": 8,
     "metadata": {},
     "output_type": "execute_result"
    }
   ],
   "source": [
    "# Your Code Here\n",
    "import requests\n",
    "\n",
    "r = requests.get('http://api.open-notify.org/iss-now.json')\n",
    "requests.codes.ok == r.status_code"
   ]
  },
  {
   "cell_type": "code",
   "execution_count": 2,
   "metadata": {},
   "outputs": [],
   "source": [
    "# Your comments \n",
    "'''\n",
    "The response status code is OK...indicates our get request was successful\n",
    "'''"
   ]
  },
  {
   "cell_type": "markdown",
   "metadata": {},
   "source": [
    "* Print the contents of the response and identify its current location"
   ]
  },
  {
   "cell_type": "code",
   "execution_count": 14,
   "metadata": {},
   "outputs": [
    {
     "name": "stdout",
     "output_type": "stream",
     "text": [
      "('{\"message\": \"success\", \"iss_position\": {\"latitude\": \"50.9081\", \"longitude\": '\n",
      " '\"105.5829\"}, \"timestamp\": 1599171035}')\n"
     ]
    }
   ],
   "source": [
    "# Your Code Here\n",
    "import pprint\n",
    "\n",
    "pprint.pprint(r.text)"
   ]
  },
  {
   "cell_type": "code",
   "execution_count": 4,
   "metadata": {},
   "outputs": [],
   "source": [
    "# Interpret your results using the API\n",
    "'''\n",
    "The current location of the IIS is lat/long 50.9081/105.5829\n",
    "'''"
   ]
  },
  {
   "cell_type": "markdown",
   "metadata": {},
   "source": [
    "### Check the next pass of International space station for a given location\n",
    "\n",
    "Let's repeat the above for the second endpoint `iss-pass.json`. This end point is used to query the next pass of the space station on a given location. Let's just run as above and record your observations."
   ]
  },
  {
   "cell_type": "code",
   "execution_count": 16,
   "metadata": {},
   "outputs": [
    {
     "name": "stdout",
     "output_type": "stream",
     "text": [
      "400\n"
     ]
    }
   ],
   "source": [
    "# Your Code Here\n",
    "r = requests.get('http://api.open-notify.org/iss-pass.json')\n",
    "requests.codes.ok == r.status_code\n",
    "print(r.status_code)"
   ]
  },
  {
   "cell_type": "code",
   "execution_count": 6,
   "metadata": {},
   "outputs": [],
   "source": [
    "# Your comments "
   ]
  },
  {
   "cell_type": "markdown",
   "metadata": {},
   "source": [
    "So clearly there is something wrong as we had a 400 response. This is how you should always test your responses for validity. \n",
    "\n",
    "If we look at the documentation for the Open Notify API, we see that the ISS Pass endpoint requires two parameters.\n",
    "\n",
    "> The ISS Pass endpoint returns when the ISS will next pass over a given location on earth. In order to compute this, we need to pass the coordinates of the location to the API. We do this by passing two parameters -- latitude and longitude.\n",
    "\n",
    "We can do this by adding an optional keyword argument, `params`, to our request. In this case, there are two parameters we need to pass:\n",
    "\n",
    "* `lat` -- The latitude of the location we want.\n",
    "* `lon` -- The longitude of the location we want.\n",
    "\n",
    "Perform the following tasks :\n",
    "* Set parameters to reflect the lat and long of New York  (40.71, -74)\n",
    "* Send a get request to Open Notify passing in the lat long parameters as k:v pairs in a dictionary\n",
    "* Check the status code and interpret\n",
    "* Print the header information and the returned content"
   ]
  },
  {
   "cell_type": "code",
   "execution_count": 23,
   "metadata": {},
   "outputs": [
    {
     "name": "stdout",
     "output_type": "stream",
     "text": [
      "200\n",
      "{'Server': 'nginx/1.10.3', 'Date': 'Thu, 03 Sep 2020 22:27:53 GMT', 'Content-Type': 'application/json', 'Content-Length': '519', 'Connection': 'keep-alive', 'Via': '1.1 vegur'}\n",
      "('{\\n'\n",
      " '  \"message\": \"success\", \\n'\n",
      " '  \"request\": {\\n'\n",
      " '    \"altitude\": 100, \\n'\n",
      " '    \"datetime\": 1599171947, \\n'\n",
      " '    \"latitude\": 40.71, \\n'\n",
      " '    \"longitude\": -74.0, \\n'\n",
      " '    \"passes\": 5\\n'\n",
      " '  }, \\n'\n",
      " '  \"response\": [\\n'\n",
      " '    {\\n'\n",
      " '      \"duration\": 437, \\n'\n",
      " '      \"risetime\": 1599192226\\n'\n",
      " '    }, \\n'\n",
      " '    {\\n'\n",
      " '      \"duration\": 649, \\n'\n",
      " '      \"risetime\": 1599197888\\n'\n",
      " '    }, \\n'\n",
      " '    {\\n'\n",
      " '      \"duration\": 616, \\n'\n",
      " '      \"risetime\": 1599203727\\n'\n",
      " '    }, \\n'\n",
      " '    {\\n'\n",
      " '      \"duration\": 559, \\n'\n",
      " '      \"risetime\": 1599209618\\n'\n",
      " '    }, \\n'\n",
      " '    {\\n'\n",
      " '      \"duration\": 603, \\n'\n",
      " '      \"risetime\": 1599215464\\n'\n",
      " '    }\\n'\n",
      " '  ]\\n'\n",
      " '}\\n')\n"
     ]
    }
   ],
   "source": [
    "# Your Code Here\n",
    "lat = '40.71'\n",
    "lon = '-74'\n",
    "r = requests.get('http://api.open-notify.org/iss-pass.json', params={'lat':lat, 'lon':lon})\n",
    "requests.codes.ok == r.status_code\n",
    "print(r.status_code)\n",
    "pprint.pprint(r.headers)\n",
    "pprint.pprint(r.text)"
   ]
  },
  {
   "cell_type": "code",
   "execution_count": 26,
   "metadata": {},
   "outputs": [
    {
     "data": {
      "text/plain": [
       "'\\n         the next pass will be 1599192226 (unix timestamp)\\n         converts to Friday September 04, 2020 00:03:46 (am) \\n         '"
      ]
     },
     "execution_count": 26,
     "metadata": {},
     "output_type": "execute_result"
    }
   ],
   "source": [
    "# Check the API and interpret your results - when will ISS pass over NEW York next ?\n",
    " '''\n",
    " the next pass will be 1599192226 (unix timestamp)\n",
    " converts to Friday September 04, 2020 00:03:46 (am) \n",
    " '''"
   ]
  },
  {
   "cell_type": "markdown",
   "metadata": {},
   "source": [
    "### Finding the number of people in space\n",
    "\n",
    "Open Notify has one more API endpoint, `/astros.json`. It tells you how many people are currently in space. The format of the responses can be studied [HERE](http://open-notify.org/Open-Notify-API/People-In-Space/).\n",
    "\n",
    "Read the above documentation and perform the following tasks:\n",
    "\n",
    "* Get the response from astros.json endpoint\n",
    "* Count how many people are currently in space\n",
    "* List the names of people currently in space."
   ]
  },
  {
   "cell_type": "code",
   "execution_count": 40,
   "metadata": {},
   "outputs": [
    {
     "name": "stdout",
     "output_type": "stream",
     "text": [
      "{'message': 'success',\n",
      " 'number': 3,\n",
      " 'people': [{'craft': 'ISS', 'name': 'Chris Cassidy'},\n",
      "            {'craft': 'ISS', 'name': 'Anatoly Ivanishin'},\n",
      "            {'craft': 'ISS', 'name': 'Ivan Vagner'}]}\n"
     ]
    }
   ],
   "source": [
    "# Your Code Here\n",
    "r = requests.get('http://api.open-notify.org/astros.json')\n",
    "requests.codes.ok == r.status_code\n",
    "import json\n",
    "jstr =  json.loads(r.text)\n",
    "pprint.pprint(jstr)"
   ]
  },
  {
   "cell_type": "code",
   "execution_count": 41,
   "metadata": {},
   "outputs": [
    {
     "data": {
      "text/plain": [
       "'\\nThe json doc tells us there are 3 people in space right now... see printout above\\n'"
      ]
     },
     "execution_count": 41,
     "metadata": {},
     "output_type": "execute_result"
    }
   ],
   "source": [
    "# Interpret the Results - How many people are in space and what are their names \n",
    "'''\n",
    "The json doc tells us there are 3 people in space right now... see printout above\n",
    "'''"
   ]
  },
  {
   "cell_type": "markdown",
   "metadata": {},
   "source": [
    "## Summary \n",
    "\n",
    "In this lesson, we saw how we can use request and response methods to query an Open API. We also saw how to look at the contents returned with the API calls and how to parse them. Next, we'll look at connecting to APIs which are not OPEN, i.e. we would need to pass in some authentication information and filter the results. "
   ]
  }
 ],
 "metadata": {
  "kernelspec": {
   "display_name": "Python 3",
   "language": "python",
   "name": "python3"
  },
  "language_info": {
   "codemirror_mode": {
    "name": "ipython",
    "version": 3
   },
   "file_extension": ".py",
   "mimetype": "text/x-python",
   "name": "python",
   "nbconvert_exporter": "python",
   "pygments_lexer": "ipython3",
   "version": "3.6.9"
  },
  "toc": {
   "base_numbering": 1,
   "nav_menu": {},
   "number_sections": true,
   "sideBar": true,
   "skip_h1_title": false,
   "title_cell": "Table of Contents",
   "title_sidebar": "Contents",
   "toc_cell": false,
   "toc_position": {},
   "toc_section_display": true,
   "toc_window_display": false
  }
 },
 "nbformat": 4,
 "nbformat_minor": 2
}
